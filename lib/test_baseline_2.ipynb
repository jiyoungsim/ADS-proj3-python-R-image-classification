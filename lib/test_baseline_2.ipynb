{
 "cells": [
  {
   "cell_type": "code",
   "execution_count": 2,
   "metadata": {},
   "outputs": [],
   "source": [
    "import pandas as pd\n",
    "import numpy as np"
   ]
  },
  {
   "cell_type": "code",
   "execution_count": 31,
   "metadata": {},
   "outputs": [],
   "source": [
    "def test_clf(test, baseline_dir):\n",
    "#     test = dat_test.iloc[:,:-1]\n",
    "#     y_true = dat_test.iloc[:,-1]\n",
    "    \n",
    "    from sklearn.externals import joblib\n",
    "    from sklearn.metrics import accuracy_score\n",
    "    filename = baseline_dir\n",
    "    loaded_model = joblib.load(filename)\n",
    "    preds = loaded_model.predict(test)\n",
    "    preds = pd.Series([int(p) for p in preds]) ######\n",
    "    #print(preds)\n",
    "    #print(y_true)\n",
    "#     return sum(y_true==preds)/len(preds)#accuracy_score(y_true, preds)\n",
    "    return preds"
   ]
  },
  {
   "cell_type": "code",
   "execution_count": null,
   "metadata": {},
   "outputs": [],
   "source": []
  }
 ],
 "metadata": {
  "kernelspec": {
   "display_name": "Python 3",
   "language": "python",
   "name": "python3"
  },
  "language_info": {
   "codemirror_mode": {
    "name": "ipython",
    "version": 3
   },
   "file_extension": ".py",
   "mimetype": "text/x-python",
   "name": "python",
   "nbconvert_exporter": "python",
   "pygments_lexer": "ipython3",
   "version": "3.7.3"
  }
 },
 "nbformat": 4,
 "nbformat_minor": 2
}
