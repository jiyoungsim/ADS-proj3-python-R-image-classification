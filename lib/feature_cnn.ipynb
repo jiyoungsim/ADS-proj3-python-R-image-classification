{
 "cells": [
  {
   "cell_type": "code",
   "execution_count": 1,
   "metadata": {},
   "outputs": [],
   "source": [
    "import pandas as pd\n",
    "import numpy as np"
   ]
  },
  {
   "cell_type": "code",
   "execution_count": 2,
   "metadata": {},
   "outputs": [],
   "source": [
    "# from keras_preprocessing.image import ImageDataGenerator, array_to_img, img_to_array, load_img"
   ]
  },
  {
   "cell_type": "code",
   "execution_count": 4,
   "metadata": {},
   "outputs": [],
   "source": [
    "# ## Debugging ImageDataGenerator\n",
    "\n",
    "# datagen = ImageDataGenerator(\n",
    "#         width_shift_range=0.2,\n",
    "#         height_shift_range=0.2,\n",
    "# #         brightness_range=[0.7,1.3],\n",
    "#         shear_range=0.2,\n",
    "#         zoom_range=0.2,\n",
    "#         horizontal_flip=True,\n",
    "#         fill_mode='nearest')\n",
    "\n",
    "# img = load_img('../data/train_set/images/0001.jpg')  # PIL image\n",
    "# x = img_to_array(img)\n",
    "# x = x.reshape((1,) + x.shape)\n",
    "\n",
    "# i = 0\n",
    "# for batch in datagen.flow(x, batch_size=1,\n",
    "#                           save_to_dir='preview', save_prefix='sample', save_format='jpeg'):\n",
    "#     i += 1\n",
    "#     if i > 20:\n",
    "#         break "
   ]
  },
  {
   "cell_type": "code",
   "execution_count": 1,
   "metadata": {},
   "outputs": [],
   "source": [
    "def dat_generator(idx, training, image_dir, info):\n",
    "    from keras_preprocessing.image import ImageDataGenerator#, array_to_img, img_to_array, load_img\n",
    "    label_df = pd.DataFrame()\n",
    "    label_df['filename'] = ['{:04n}.jpg'.format(i+1) for i in idx]\n",
    "    label_df['label'] = info.loc[idx,'emotion_idx'].reset_index(drop=True).astype('str')\n",
    "    if(training):\n",
    "        datagen = ImageDataGenerator(\n",
    "            rescale=1./255,\n",
    "            width_shift_range=0.1,\n",
    "            height_shift_range=0.1,\n",
    "#             brightness_range=[0.7,1.3],\n",
    "            shear_range=0.1,\n",
    "            zoom_range=0.1,\n",
    "            horizontal_flip=True,\n",
    "            fill_mode='nearest')\n",
    "    else:\n",
    "        datagen = ImageDataGenerator(rescale=1./255)\n",
    "    \n",
    "    batch_size=16\n",
    "    data_generator = datagen.flow_from_dataframe(label_df, directory=image_dir, x_col='filename', y_col='label', \n",
    "                    target_size=(150, 150), color_mode='grayscale', classes=[str(x) for x in range(1,23)], class_mode='categorical', \n",
    "                    batch_size=batch_size, shuffle=training, seed=0, validate_filenames=True)\n",
    "\n",
    "    return data_generator"
   ]
  },
  {
   "cell_type": "code",
   "execution_count": null,
   "metadata": {},
   "outputs": [],
   "source": []
  }
 ],
 "metadata": {
  "kernelspec": {
   "display_name": "Python 3",
   "language": "python",
   "name": "python3"
  },
  "language_info": {
   "codemirror_mode": {
    "name": "ipython",
    "version": 3
   },
   "file_extension": ".py",
   "mimetype": "text/x-python",
   "name": "python",
   "nbconvert_exporter": "python",
   "pygments_lexer": "ipython3",
   "version": "3.7.3"
  }
 },
 "nbformat": 4,
 "nbformat_minor": 2
}
