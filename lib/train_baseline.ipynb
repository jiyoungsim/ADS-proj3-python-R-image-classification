{
 "cells": [
  {
   "cell_type": "code",
   "execution_count": 3,
   "metadata": {},
   "outputs": [],
   "source": [
    "import pandas as pd\n",
    "import numpy as np\n",
    "import pyreadr"
   ]
  },
  {
   "cell_type": "code",
   "execution_count": 6,
   "metadata": {},
   "outputs": [],
   "source": [
    "# myfeature = pyreadr.read_r('myfeature1.RData')"
   ]
  },
  {
   "cell_type": "code",
   "execution_count": 7,
   "metadata": {},
   "outputs": [],
   "source": [
    "# feature_train=pyreadr.read_r('feature_train.RData')"
   ]
  },
  {
   "cell_type": "code",
   "execution_count": 8,
   "metadata": {},
   "outputs": [],
   "source": [
    "# train.iloc[60:120,30]"
   ]
  },
  {
   "cell_type": "code",
   "execution_count": 12,
   "metadata": {},
   "outputs": [],
   "source": [
    "def gbm_fn(X, y, cv):\n",
    "    from sklearn.ensemble import GradientBoostingClassifier\n",
    "    if(cv):\n",
    "        from sklearn.model_selection import GridSearchCV\n",
    "        params = {'n_estimators':[100, 250, 500, 750, 1000]}\n",
    "        gbm = GradientBoostingClassifier(max_depth=1)\n",
    "        clf = GridSearchCV(gbm, params, scoring='accuracy', verbose=2, n_jobs=-1)\n",
    "        clf.fit(X,y)\n",
    "        n_estimators = clf.best_params_['n_estimators']\n",
    "        gbm = GradientBoostingClassifier(max_depth=1, n_estimators = n_estimators)\n",
    "        params = {'learning_rate':[0.1, 0.05, 0.01]}\n",
    "        clf = GridSearchCV(gbm, params, scoring='accuracy', verbose=2, n_jobs=-1, refit=True)\n",
    "        clf.fit(X,y)\n",
    "        time = clf.refit_time_\n",
    "    else:\n",
    "        import time\n",
    "        start = time.time()\n",
    "        clf = GradientBoostingClassifier(max_depth=1, learning_rate=0.05, )\n",
    "        clf.fit(X,y)\n",
    "        end = time.time()\n",
    "        time = end-start\n",
    "    \n",
    "    return time, clf # model"
   ]
  },
  {
   "cell_type": "code",
   "execution_count": 13,
   "metadata": {},
   "outputs": [
    {
     "name": "stderr",
     "output_type": "stream",
     "text": [
      "C:\\Users\\Jiyoung Sim\\Anaconda3\\lib\\site-packages\\sklearn\\model_selection\\_split.py:1978: FutureWarning: The default value of cv will change from 3 to 5 in version 0.22. Specify it explicitly to silence this warning.\n",
      "  warnings.warn(CV_WARNING, FutureWarning)\n",
      "[Parallel(n_jobs=-1)]: Using backend LokyBackend with 8 concurrent workers.\n"
     ]
    },
    {
     "name": "stdout",
     "output_type": "stream",
     "text": [
      "Fitting 3 folds for each of 7 candidates, totalling 21 fits\n"
     ]
    },
    {
     "name": "stderr",
     "output_type": "stream",
     "text": [
      "[Parallel(n_jobs=-1)]: Done  17 out of  21 | elapsed: 98.4min remaining: 23.2min\n",
      "[Parallel(n_jobs=-1)]: Done  21 out of  21 | elapsed: 106.2min finished\n",
      "C:\\Users\\Jiyoung Sim\\Anaconda3\\lib\\site-packages\\sklearn\\model_selection\\_search.py:813: DeprecationWarning: The default of the `iid` parameter will change from True to False in version 0.22 and will be removed in 0.24. This will change numeric results when test-set sizes are unequal.\n",
      "  DeprecationWarning)\n"
     ]
    }
   ],
   "source": [
    "# model = gbm_fn(X_train, y_train)"
   ]
  },
  {
   "cell_type": "code",
   "execution_count": 14,
   "metadata": {},
   "outputs": [
    {
     "name": "stdout",
     "output_type": "stream",
     "text": [
      "{'learning_rate': 0.05}\n",
      "0.396\n"
     ]
    }
   ],
   "source": [
    "# print(model.best_params_)\n",
    "# print(model.best_score_)\n",
    "# results = model.cv_results_\n",
    "# fit_time = model.refit_time_"
   ]
  },
  {
   "cell_type": "code",
   "execution_count": 15,
   "metadata": {},
   "outputs": [
    {
     "data": {
      "text/plain": [
       "{'mean_fit_time': array([2465.49198429, 2313.63457505, 1937.21284842, 2004.78762881,\n",
       "        2460.75966152, 2184.19639937, 1765.21586545]),\n",
       " 'std_fit_time': array([ 29.68300226,  31.7528354 ,  52.09792597,  20.32510913,\n",
       "         36.70292549, 200.81356665, 132.85461602]),\n",
       " 'mean_score_time': array([0.27027694, 0.27027758, 0.32612824, 0.39993064, 0.43417279,\n",
       "        0.33543714, 0.19281809]),\n",
       " 'std_score_time': array([0.00373179, 0.00846286, 0.01481518, 0.06219251, 0.02757123,\n",
       "        0.01515384, 0.04329201]),\n",
       " 'param_learning_rate': masked_array(data=[1, 0.75, 0.5, 0.25, 0.1, 0.05, 0.01],\n",
       "              mask=[False, False, False, False, False, False, False],\n",
       "        fill_value='?',\n",
       "             dtype=object),\n",
       " 'params': [{'learning_rate': 1},\n",
       "  {'learning_rate': 0.75},\n",
       "  {'learning_rate': 0.5},\n",
       "  {'learning_rate': 0.25},\n",
       "  {'learning_rate': 0.1},\n",
       "  {'learning_rate': 0.05},\n",
       "  {'learning_rate': 0.01}],\n",
       " 'split0_test_score': array([0.04896142, 0.24480712, 0.25667656, 0.39465875, 0.40356083,\n",
       "        0.39317507, 0.35014837]),\n",
       " 'split1_test_score': array([0.22338831, 0.23688156, 0.26086957, 0.38530735, 0.3928036 ,\n",
       "        0.41229385, 0.37931034]),\n",
       " 'split2_test_score': array([0.20333839, 0.215478  , 0.27617602, 0.38694992, 0.37936267,\n",
       "        0.38239757, 0.34294385]),\n",
       " 'mean_test_score': array([0.158 , 0.2325, 0.2645, 0.389 , 0.392 , 0.396 , 0.3575]),\n",
       " 'std_test_score': array([0.07816626, 0.01236602, 0.00836317, 0.00408945, 0.00989334,\n",
       "        0.01233678, 0.01570578]),\n",
       " 'rank_test_score': array([7, 6, 5, 3, 2, 1, 4])}"
      ]
     },
     "execution_count": 15,
     "metadata": {},
     "output_type": "execute_result"
    }
   ],
   "source": [
    "# results"
   ]
  },
  {
   "cell_type": "code",
   "execution_count": 16,
   "metadata": {},
   "outputs": [
    {
     "data": {
      "text/plain": [
       "1393.192896604538"
      ]
     },
     "execution_count": 16,
     "metadata": {},
     "output_type": "execute_result"
    }
   ],
   "source": [
    "# fit_time"
   ]
  },
  {
   "cell_type": "code",
   "execution_count": 18,
   "metadata": {},
   "outputs": [
    {
     "name": "stderr",
     "output_type": "stream",
     "text": [
      "C:\\Users\\Jiyoung Sim\\Anaconda3\\lib\\site-packages\\sklearn\\externals\\joblib\\__init__.py:15: DeprecationWarning: sklearn.externals.joblib is deprecated in 0.21 and will be removed in 0.23. Please import this functionality directly from joblib, which can be installed with: pip install joblib. If this warning is raised when loading pickled models, you may need to re-serialize those models with scikit-learn 0.21+.\n",
      "  warnings.warn(msg, category=DeprecationWarning)\n"
     ]
    },
    {
     "data": {
      "text/plain": [
       "['baseline_train.sav']"
      ]
     },
     "execution_count": 18,
     "metadata": {},
     "output_type": "execute_result"
    }
   ],
   "source": [
    "# from sklearn.externals import joblib\n",
    "\n",
    "# # save the model to disk\n",
    "# filename = 'baseline_train.sav'\n",
    "# joblib.dump(best_model, filename)"
   ]
  },
  {
   "cell_type": "code",
   "execution_count": 6,
   "metadata": {},
   "outputs": [
    {
     "data": {
      "text/plain": [
       "0.448"
      ]
     },
     "execution_count": 6,
     "metadata": {},
     "output_type": "execute_result"
    }
   ],
   "source": [
    "# from sklearn.externals import joblib\n",
    "# filename = 'baseline_train.sav'\n",
    "# loaded_model = joblib.load(filename)\n",
    "# preds = loaded_model.predict(X_test)\n",
    "# sum(preds == y_test)/len(y_test)"
   ]
  },
  {
   "cell_type": "code",
   "execution_count": 41,
   "metadata": {},
   "outputs": [
    {
     "data": {
      "text/plain": [
       "(0.448, 0.448, 0.44800000000000006, None)"
      ]
     },
     "execution_count": 41,
     "metadata": {},
     "output_type": "execute_result"
    }
   ],
   "source": [
    "# from sklearn.metrics import precision_recall_fscore_support\n",
    "# precision_recall_fscore_support(y_test,preds, average='micro')"
   ]
  },
  {
   "cell_type": "code",
   "execution_count": null,
   "metadata": {},
   "outputs": [],
   "source": [
    "# import pickle\n",
    "# filename = 'finalized_model.sav'\n",
    "# pickle.dump(model, open(filename, 'wb'))\n",
    "\n",
    "# # load the model from disk\n",
    "# loaded_model = pickle.load(open(filename, 'rb'))"
   ]
  },
  {
   "cell_type": "code",
   "execution_count": null,
   "metadata": {},
   "outputs": [],
   "source": []
  }
 ],
 "metadata": {
  "kernelspec": {
   "display_name": "Python 3",
   "language": "python",
   "name": "python3"
  },
  "language_info": {
   "codemirror_mode": {
    "name": "ipython",
    "version": 3
   },
   "file_extension": ".py",
   "mimetype": "text/x-python",
   "name": "python",
   "nbconvert_exporter": "python",
   "pygments_lexer": "ipython3",
   "version": "3.7.3"
  }
 },
 "nbformat": 4,
 "nbformat_minor": 2
}
