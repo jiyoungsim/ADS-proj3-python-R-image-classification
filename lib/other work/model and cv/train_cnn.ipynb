{
 "cells": [
  {
   "cell_type": "code",
   "execution_count": 1,
   "metadata": {},
   "outputs": [],
   "source": [
    "import pandas as pd\n",
    "import numpy as np\n",
    "import pyreadr\n",
    "import import_ipynb"
   ]
  },
  {
   "cell_type": "code",
   "execution_count": 2,
   "metadata": {},
   "outputs": [],
   "source": [
    "train = pyreadr.read_r('train_df.RData')['dat_train']\n",
    "test = pyreadr.read_r('test_df.RData')['dat_test']"
   ]
  },
  {
   "cell_type": "code",
   "execution_count": 3,
   "metadata": {},
   "outputs": [],
   "source": [
    "X_train, y_train = train.loc[:,:'feature6006'], train.loc[:,'emotion_idx']\n",
    "X_test, y_test = test.loc[:,:'feature6006'], test.loc[:,'emotion_idx']"
   ]
  },
  {
   "cell_type": "code",
   "execution_count": 4,
   "metadata": {},
   "outputs": [],
   "source": [
    "### Step 0: Provide directories for training images. Training images and Training fiducial points will be in different subfolders. \n",
    "train_dir = '../data/train_set/' # This will be modified for different data sets.\n",
    "train_image_dir = train_dir + 'images/'\n",
    "train_pt_dir = train_dir + 'points/'\n",
    "train_label_path = train_dir + 'label.csv'"
   ]
  },
  {
   "cell_type": "code",
   "execution_count": 5,
   "metadata": {},
   "outputs": [],
   "source": [
    "### Step 2: import data and train-test split \n",
    "from sklearn.model_selection import train_test_split\n",
    "info = pd.read_csv(train_label_path)\n",
    "train_idx_py, test_idx_py = train_test_split(range(len(info)), test_size=0.2, random_state = 0)\n",
    "train_idx_r = [i+1 for i in train_idx_py]\n",
    "test_idx_r = [i+1 for i in test_idx_py]"
   ]
  },
  {
   "cell_type": "code",
   "execution_count": 6,
   "metadata": {},
   "outputs": [],
   "source": [
    "train_idx_py, val_idx_py = train_test_split(train_idx_py, test_size=0.02, random_state = 0)"
   ]
  },
  {
   "cell_type": "code",
   "execution_count": 7,
   "metadata": {},
   "outputs": [
    {
     "name": "stdout",
     "output_type": "stream",
     "text": [
      "importing Jupyter notebook from feature_cnn.ipynb\n",
      "Found 1960 validated image filenames belonging to 22 classes.\n",
      "Found 500 validated image filenames belonging to 22 classes.\n",
      "Found 40 validated image filenames belonging to 22 classes.\n"
     ]
    }
   ],
   "source": [
    "import feature_cnn\n",
    "train_generator = feature_cnn.dat_generator(train_idx_py, True, train_image_dir, info)\n",
    "test_generator = feature_cnn.dat_generator(test_idx_py, False, train_image_dir, info)\n",
    "val_generator = feature_cnn.dat_generator(val_idx_py, False, train_image_dir, info)"
   ]
  },
  {
   "cell_type": "code",
   "execution_count": 8,
   "metadata": {},
   "outputs": [],
   "source": [
    "# from keras_preprocessing.image import ImageDataGenerator, array_to_img, img_to_array, load_img"
   ]
  },
  {
   "cell_type": "code",
   "execution_count": 9,
   "metadata": {},
   "outputs": [],
   "source": [
    "def train_cnn(train_generator, val_generator):\n",
    "    from keras import Sequential\n",
    "    from keras.callbacks import ModelCheckpoint, EarlyStopping, ReduceLROnPlateau\n",
    "    from keras.layers import Conv2D, Activation, MaxPooling2D, Dense, Flatten, Dropout\n",
    "    model_ckpnt = ModelCheckpoint(\"best.h5\",verbose = 1, save_best_only = True)\n",
    "    early_stop = EarlyStopping(patience = 10, verbose = 1, monitor = 'val_loss')\n",
    "    reduceLR = ReduceLROnPlateau(patience = 5, verbose = 1, factor = 0.05)\n",
    "    \n",
    "    model = Sequential()\n",
    "    model.add(Conv2D(32, (3, 3), input_shape=(150, 150, 1)))\n",
    "    model.add(Activation('relu'))\n",
    "    model.add(MaxPooling2D(pool_size=(2, 2)))\n",
    "\n",
    "    model.add(Conv2D(32, (3, 3)))\n",
    "    model.add(Activation('relu'))\n",
    "    model.add(MaxPooling2D(pool_size=(2, 2)))\n",
    "\n",
    "    model.add(Conv2D(64, (3, 3)))\n",
    "    model.add(Activation('relu'))\n",
    "    model.add(MaxPooling2D(pool_size=(2, 2)))\n",
    "\n",
    "    model.add(Flatten())\n",
    "#     model.add(GlobalAveragePooling2D())\n",
    "    model.add(Dense(64))\n",
    "    model.add(Activation('relu'))\n",
    "    model.add(Dropout(0.2))\n",
    "    model.add(Dense(22))\n",
    "    model.add(Activation('softmax'))\n",
    "    model.summary()\n",
    "    model.compile(loss='categorical_crossentropy',\n",
    "                  optimizer='adam',\n",
    "                  metrics=['accuracy'])\n",
    "\n",
    "    batch_size = 16\n",
    "    model.fit_generator(\n",
    "            train_generator,\n",
    "            validation_data=val_generator,\n",
    "            steps_per_epoch=len(train_generator),\n",
    "            callbacks=[model_ckpnt, early_stop, reduceLR],\n",
    "            epochs=100)\n",
    "#     model.save_weights('first_try.h5')\n",
    "    return model"
   ]
  },
  {
   "cell_type": "code",
   "execution_count": 10,
   "metadata": {},
   "outputs": [
    {
     "name": "stderr",
     "output_type": "stream",
     "text": [
      "Using TensorFlow backend.\n"
     ]
    },
    {
     "name": "stdout",
     "output_type": "stream",
     "text": [
      "Model: \"sequential_1\"\n",
      "_________________________________________________________________\n",
      "Layer (type)                 Output Shape              Param #   \n",
      "=================================================================\n",
      "conv2d_1 (Conv2D)            (None, 148, 148, 32)      320       \n",
      "_________________________________________________________________\n",
      "activation_1 (Activation)    (None, 148, 148, 32)      0         \n",
      "_________________________________________________________________\n",
      "max_pooling2d_1 (MaxPooling2 (None, 74, 74, 32)        0         \n",
      "_________________________________________________________________\n",
      "conv2d_2 (Conv2D)            (None, 72, 72, 32)        9248      \n",
      "_________________________________________________________________\n",
      "activation_2 (Activation)    (None, 72, 72, 32)        0         \n",
      "_________________________________________________________________\n",
      "max_pooling2d_2 (MaxPooling2 (None, 36, 36, 32)        0         \n",
      "_________________________________________________________________\n",
      "conv2d_3 (Conv2D)            (None, 34, 34, 64)        18496     \n",
      "_________________________________________________________________\n",
      "activation_3 (Activation)    (None, 34, 34, 64)        0         \n",
      "_________________________________________________________________\n",
      "max_pooling2d_3 (MaxPooling2 (None, 17, 17, 64)        0         \n",
      "_________________________________________________________________\n",
      "flatten_1 (Flatten)          (None, 18496)             0         \n",
      "_________________________________________________________________\n",
      "dense_1 (Dense)              (None, 64)                1183808   \n",
      "_________________________________________________________________\n",
      "activation_4 (Activation)    (None, 64)                0         \n",
      "_________________________________________________________________\n",
      "dropout_1 (Dropout)          (None, 64)                0         \n",
      "_________________________________________________________________\n",
      "dense_2 (Dense)              (None, 22)                1430      \n",
      "_________________________________________________________________\n",
      "activation_5 (Activation)    (None, 22)                0         \n",
      "=================================================================\n",
      "Total params: 1,213,302\n",
      "Trainable params: 1,213,302\n",
      "Non-trainable params: 0\n",
      "_________________________________________________________________\n",
      "Epoch 1/100\n",
      "123/123 [==============================] - 43s 346ms/step - loss: 3.0926 - accuracy: 0.0510 - val_loss: 3.0995 - val_accuracy: 0.0500\n",
      "\n",
      "Epoch 00001: val_loss improved from inf to 3.09950, saving model to best.h5\n",
      "Epoch 2/100\n",
      "123/123 [==============================] - 42s 345ms/step - loss: 3.0909 - accuracy: 0.0490 - val_loss: 3.1160 - val_accuracy: 0.0000e+00\n",
      "\n",
      "Epoch 00002: val_loss did not improve from 3.09950\n",
      "Epoch 3/100\n",
      "123/123 [==============================] - 43s 346ms/step - loss: 3.0913 - accuracy: 0.0500 - val_loss: 3.1142 - val_accuracy: 0.0750\n",
      "\n",
      "Epoch 00003: val_loss did not improve from 3.09950\n",
      "Epoch 4/100\n",
      "123/123 [==============================] - 42s 345ms/step - loss: 3.0884 - accuracy: 0.0546 - val_loss: 3.1207 - val_accuracy: 0.0750\n",
      "\n",
      "Epoch 00004: val_loss did not improve from 3.09950\n",
      "Epoch 5/100\n",
      "123/123 [==============================] - 42s 344ms/step - loss: 3.0879 - accuracy: 0.0566 - val_loss: 3.1238 - val_accuracy: 0.0750\n",
      "\n",
      "Epoch 00005: val_loss did not improve from 3.09950\n",
      "Epoch 6/100\n",
      "123/123 [==============================] - 42s 345ms/step - loss: 3.0873 - accuracy: 0.0566 - val_loss: 3.1301 - val_accuracy: 0.0750\n",
      "\n",
      "Epoch 00006: val_loss did not improve from 3.09950\n",
      "\n",
      "Epoch 00006: ReduceLROnPlateau reducing learning rate to 5.0000002374872565e-05.\n",
      "Epoch 7/100\n",
      "123/123 [==============================] - 43s 351ms/step - loss: 3.0869 - accuracy: 0.0566 - val_loss: 3.1302 - val_accuracy: 0.0750\n",
      "\n",
      "Epoch 00007: val_loss did not improve from 3.09950\n",
      "Epoch 8/100\n",
      "123/123 [==============================] - 47s 381ms/step - loss: 3.0861 - accuracy: 0.0566 - val_loss: 3.1306 - val_accuracy: 0.0750\n",
      "\n",
      "Epoch 00008: val_loss did not improve from 3.09950\n",
      "Epoch 9/100\n",
      "123/123 [==============================] - 47s 382ms/step - loss: 3.0866 - accuracy: 0.0566 - val_loss: 3.1310 - val_accuracy: 0.0750\n",
      "\n",
      "Epoch 00009: val_loss did not improve from 3.09950\n",
      "Epoch 10/100\n",
      "123/123 [==============================] - 42s 344ms/step - loss: 3.0866 - accuracy: 0.0566 - val_loss: 3.1312 - val_accuracy: 0.0750\n",
      "\n",
      "Epoch 00010: val_loss did not improve from 3.09950\n",
      "Epoch 11/100\n",
      "123/123 [==============================] - 43s 347ms/step - loss: 3.0865 - accuracy: 0.0566 - val_loss: 3.1313 - val_accuracy: 0.0750\n",
      "\n",
      "Epoch 00011: val_loss did not improve from 3.09950\n",
      "\n",
      "Epoch 00011: ReduceLROnPlateau reducing learning rate to 2.5000001187436284e-06.\n",
      "Epoch 00011: early stopping\n"
     ]
    }
   ],
   "source": [
    "model = train_cnn(train_generator, val_generator)"
   ]
  },
  {
   "cell_type": "code",
   "execution_count": 27,
   "metadata": {},
   "outputs": [
    {
     "data": {
      "text/plain": [
       "['cnn_train.sav']"
      ]
     },
     "execution_count": 27,
     "metadata": {},
     "output_type": "execute_result"
    }
   ],
   "source": [
    "from sklearn.externals import joblib\n",
    "\n",
    "# save the model to disk\n",
    "filename = 'cnn_train.sav'\n",
    "joblib.dump(model, filename)"
   ]
  },
  {
   "cell_type": "code",
   "execution_count": 11,
   "metadata": {},
   "outputs": [
    {
     "name": "stdout",
     "output_type": "stream",
     "text": [
      "32/32 [==============================] - 6s 180ms/step\n"
     ]
    }
   ],
   "source": [
    "# model.load_weights('best.h5')\n",
    "preds = model.predict(test_generator, verbose = 1)"
   ]
  },
  {
   "cell_type": "code",
   "execution_count": 26,
   "metadata": {},
   "outputs": [],
   "source": [
    "y_pred = preds.argmax(1)"
   ]
  },
  {
   "cell_type": "code",
   "execution_count": 13,
   "metadata": {},
   "outputs": [
    {
     "data": {
      "text/plain": [
       "22"
      ]
     },
     "execution_count": 13,
     "metadata": {},
     "output_type": "execute_result"
    }
   ],
   "source": [
    "sum(y_pred == info.loc[test_idx_py, 'emotion_idx'].reset_index(drop=True))"
   ]
  },
  {
   "cell_type": "code",
   "execution_count": 25,
   "metadata": {},
   "outputs": [
    {
     "data": {
      "text/plain": [
       "3     111\n",
       "11    102\n",
       "12    101\n",
       "17     99\n",
       "14     98\n",
       "8      96\n",
       "2      93\n",
       "20     92\n",
       "7      91\n",
       "18     90\n",
       "4      89\n",
       "1      89\n",
       "19     89\n",
       "13     84\n",
       "5      84\n",
       "21     83\n",
       "6      81\n",
       "16     81\n",
       "22     81\n",
       "10     78\n",
       "9      78\n",
       "15     70\n",
       "Name: emotion_idx, dtype: int64"
      ]
     },
     "execution_count": 25,
     "metadata": {},
     "output_type": "execute_result"
    }
   ],
   "source": [
    "info.loc[train_idx_py,'emotion_idx'].value_counts()"
   ]
  },
  {
   "cell_type": "code",
   "execution_count": null,
   "metadata": {},
   "outputs": [],
   "source": []
  }
 ],
 "metadata": {
  "kernelspec": {
   "display_name": "Python 3",
   "language": "python",
   "name": "python3"
  },
  "language_info": {
   "codemirror_mode": {
    "name": "ipython",
    "version": 3
   },
   "file_extension": ".py",
   "mimetype": "text/x-python",
   "name": "python",
   "nbconvert_exporter": "python",
   "pygments_lexer": "ipython3",
   "version": "3.7.3"
  }
 },
 "nbformat": 4,
 "nbformat_minor": 2
}
